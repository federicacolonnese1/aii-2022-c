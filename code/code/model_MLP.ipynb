{
 "cells": [
  {
   "cell_type": "code",
   "execution_count": 1,
   "id": "bb4e5477",
   "metadata": {},
   "outputs": [
    {
     "name": "stdout",
     "output_type": "stream",
     "text": [
      "Num GPUs Available:  1\n"
     ]
    }
   ],
   "source": [
    "import tensorflow as tf\n",
    "from tensorflow.python.client import device_lib\n",
    "\n",
    "print(\"Num GPUs Available: \", len(tf.config.list_physical_devices('GPU')))\n",
    "device_lib.list_local_devices()\n",
    "\n",
    "import os\n",
    "import numpy as np\n",
    "import matplotlib.pyplot as plt\n",
    "\n",
    "#seed\n",
    "from numpy.random import seed\n",
    "seed(1)\n",
    "#tf.random.set_seed(1745093)\n",
    "\n",
    "#model\n",
    "from tensorflow.keras import Sequential\n",
    "from tensorflow import keras\n",
    "from tensorflow.keras.layers import Dense, Dropout, Conv2D, Flatten, LSTM, Reshape\n",
    "from tensorflow.keras.callbacks import EarlyStopping\n",
    "from tensorflow.keras.callbacks import LearningRateScheduler\n",
    "from sklearn.metrics import classification_report"
   ]
  },
  {
   "cell_type": "code",
   "execution_count": 2,
   "id": "1d719d07",
   "metadata": {},
   "outputs": [],
   "source": [
    "#dataset import \n",
    "X_train = np.load('X_train.npy')\n",
    "Y_train = np.load('Y_train.npy')\n",
    "X_test = np.load('X_test.npy')\n",
    "Y_test = np.load('Y_test.npy')"
   ]
  },
  {
   "cell_type": "code",
   "execution_count": 3,
   "id": "2881c0ff",
   "metadata": {},
   "outputs": [
    {
     "name": "stdout",
     "output_type": "stream",
     "text": [
      "0\n",
      "[]\n"
     ]
    }
   ],
   "source": [
    "#check for duplicates between x_train and x_test\n",
    "lista5 = []\n",
    "count5 = 0\n",
    "for i in range (len(X_train)):\n",
    "    bambino9 = X_train[i]\n",
    "    for j in range (len(X_test)):\n",
    "        if i<j :\n",
    "            bambino10 = X_test[j]\n",
    "            flag = np.array_equal(bambino9, bambino10)\n",
    "            if (flag == True) and (i not in lista5):\n",
    "                count5+=1\n",
    "                lista5.append(i)\n",
    "print(count5)\n",
    "print(lista5)"
   ]
  },
  {
   "cell_type": "code",
   "execution_count": 4,
   "id": "1baa7f77",
   "metadata": {},
   "outputs": [
    {
     "name": "stdout",
     "output_type": "stream",
     "text": [
      "(565, 35, 75)\n",
      "(565, 2)\n",
      "(143, 35, 75)\n",
      "(143, 2)\n",
      "35\n"
     ]
    }
   ],
   "source": [
    "#dataset shuffle \n",
    "from sklearn.utils import shuffle\n",
    "\n",
    "X_train, Y_train = shuffle(X_train, Y_train)\n",
    "X_test, Y_test = shuffle(X_test, Y_test)\n",
    "X_shape_sample = np.shape(X_train[0])\n",
    "avg_len = len(X_train[0])\n",
    "              \n",
    "print(np.shape(X_train))\n",
    "print(np.shape(Y_train))\n",
    "print(np.shape(X_test))\n",
    "print(np.shape(Y_test))\n",
    "print(avg_len)"
   ]
  },
  {
   "cell_type": "code",
   "execution_count": 5,
   "id": "1619e171",
   "metadata": {},
   "outputs": [
    {
     "name": "stdout",
     "output_type": "stream",
     "text": [
      "(565, 2625)\n",
      "<class 'numpy.ndarray'>\n",
      "(2625,)\n",
      "Model: \"sequential\"\n",
      "_________________________________________________________________\n",
      " Layer (type)                Output Shape              Param #   \n",
      "=================================================================\n",
      " dense (Dense)               (None, 64)                168064    \n",
      "                                                                 \n",
      " dense_1 (Dense)             (None, 32)                2080      \n",
      "                                                                 \n",
      " dense_2 (Dense)             (None, 16)                528       \n",
      "                                                                 \n",
      " dense_3 (Dense)             (None, 2)                 34        \n",
      "                                                                 \n",
      "=================================================================\n",
      "Total params: 170,706\n",
      "Trainable params: 170,706\n",
      "Non-trainable params: 0\n",
      "_________________________________________________________________\n",
      "time for training in seconds  78.30720138549805\n",
      "\n",
      "training confusion matrix \n",
      "  tf.Tensor(\n",
      "[[260   8]\n",
      " [  1 296]], shape=(2, 2), dtype=int32)\n",
      "98.4070796460177\n"
     ]
    }
   ],
   "source": [
    "#MLP IMPLEMENTATION \n",
    "#reshaping x_train from (565, 35, 75) to (565, 2625)\n",
    "x_train = []\n",
    "for i in range (len(X_train)):\n",
    "    sample = np.reshape(X_train[i], -1)\n",
    "    x_train.append(sample)\n",
    "x_train = np.asarray(x_train)\n",
    "\n",
    "print(np.shape(x_train))\n",
    "print(type(x_train))\n",
    "input_shape = np.shape(x_train[0])\n",
    "print(input_shape)\n",
    "\n",
    "train_acc_list = []\n",
    "train_time_list = []\n",
    "\n",
    "#accuracy\n",
    "def accur(y_test, y_test_pred):\n",
    "    count = 0\n",
    "    for i in range(np.shape(y_test)[0]):\n",
    "        if y_test[i] == y_test_pred[i]:\n",
    "            count+=1\n",
    "    return count/np.shape(y_test)[0]*100\n",
    "\n",
    "Y_train_b = np.argmax(Y_train, axis = -1)\n",
    "import time\n",
    "model = Sequential()\n",
    "model.add(Dense(64, input_shape=input_shape, activation='tanh'))\n",
    "model.add(Dense(32, activation='tanh'))\n",
    "model.add(Dense(16, activation='tanh'))\n",
    "model.add(Dense(2, activation = \"softmax\"))\n",
    "model.summary()\n",
    "early_stop = EarlyStopping(monitor='val_loss', patience=700, restore_best_weights = False)\n",
    "opt =keras.optimizers.Adam(learning_rate=0.0001)\n",
    "model.compile(loss='binary_crossentropy',optimizer=opt ,metrics=['accuracy'])\n",
    "start = time.time()\n",
    "history = model.fit(x_train, Y_train, epochs=300, batch_size=8, validation_split = 0.1 ,callbacks =[early_stop], verbose=0)\n",
    "end = time.time()\n",
    "print('time for training in seconds ',end-start)\n",
    "train_time_list.append(end-start)\n",
    "#prediction\n",
    "#y_predict = np.argmax(model.predict(X_test), axis=-1)\n",
    "y_predict_train = np.argmax(model.predict(x_train),axis = -1)\n",
    "#accuracy = accur(Y_test_b, y_predict)\n",
    "train_accuracy = accur(Y_train_b,y_predict_train)\n",
    "train_acc_list.append(train_accuracy)\n",
    "#plotting the confusion matrix\n",
    "print('\\ntraining confusion matrix \\n ',tf.math.confusion_matrix(\n",
    "Y_train_b, y_predict_train, num_classes=None, weights=None, dtype=tf.dtypes.int32,\n",
    "name=None))\n",
    "print(train_accuracy)"
   ]
  },
  {
   "cell_type": "code",
   "execution_count": null,
   "id": "50e4aeb7",
   "metadata": {},
   "outputs": [],
   "source": []
  }
 ],
 "metadata": {
  "kernelspec": {
   "display_name": "Python 3 (ipykernel)",
   "language": "python",
   "name": "python3"
  },
  "language_info": {
   "codemirror_mode": {
    "name": "ipython",
    "version": 3
   },
   "file_extension": ".py",
   "mimetype": "text/x-python",
   "name": "python",
   "nbconvert_exporter": "python",
   "pygments_lexer": "ipython3",
   "version": "3.7.5"
  }
 },
 "nbformat": 4,
 "nbformat_minor": 5
}
